{
 "cells": [
  {
   "cell_type": "markdown",
   "metadata": {},
   "source": [
    "# Exact Method\n",
    "Using Gurobi solver"
   ]
  },
  {
   "cell_type": "code",
   "execution_count": 2,
   "metadata": {},
   "outputs": [],
   "source": [
    "import math\n",
    "import pandas as pd\n",
    "import gurobipy as gp\n",
    "from gurobipy import GRB\n",
    "import numpy as np"
   ]
  },
  {
   "cell_type": "code",
   "execution_count": 111,
   "metadata": {},
   "outputs": [],
   "source": [
    "df = pd.read_csv('datasets/real-datasets/compas_metadata.csv').drop(columns = ['instances'])\n",
    "performance_columns = [col for col in df.columns if col.startswith('algo')]\n",
    "X = df.drop(columns = performance_columns)\n",
    "Y = df[performance_columns][['algo_bagging']]\n",
    "F = X.to_numpy()\n",
    "Y = Y.to_numpy()\n",
    "\n",
    "# Como pelo jeito não consigo modelar nosso problema matricial, vamos pegar uma parte de F e Y\n",
    "F = F[0,0]\n",
    "y = Y[0]"
   ]
  },
  {
   "cell_type": "code",
   "execution_count": 113,
   "metadata": {},
   "outputs": [
    {
     "name": "stdout",
     "output_type": "stream",
     "text": [
      "Error code 10003: Unsupported type (<class 'numpy.ndarray'>) for LinExpr addition argument\n"
     ]
    }
   ],
   "source": [
    "\n",
    "try:\n",
    "\n",
    "    # Create a new model\n",
    "    mod = gp.Model(\"mod1\") \n",
    "\n",
    "    # Create variables\n",
    "    Ar = mod.addVar(vtype=GRB.CONTINUOUS, name=\"Ar\") \n",
    "    Br = mod.addVar(vtype=GRB.CONTINUOUS, name=\"Br\")\n",
    "    cr = mod.addVar(vtype=GRB.CONTINUOUS, name=\"cr\")\n",
    "    \n",
    "    # Set objective\n",
    "    #mod.setObjective(np.sum(np.square(F - Br @(Ar @ F))) + \n",
    "    #               np.sum(np.square(Y.transpose - np.matmul(cr, np.matmul(Ar, F)))), GRB.MINIMIZE)\n",
    "\n",
    "    mod.setObjective( (F - Br*F) + (y - cr*F)\n",
    "                    )\n",
    "                     \n",
    "    # Add constraints\n",
    "    \n",
    "    \n",
    "    # Optimize model\n",
    "    mod.optimize()\n",
    "\n",
    "    #print(x.X)\n",
    "    print('Obj: %g' % mod.objVal)\n",
    "\n",
    "except gp.GurobiError as e:\n",
    "    print('Error code ' + str(e.errno) + \": \" + str(e))\n",
    "\n",
    "except AttributeError:\n",
    "    print('Encountered an attribute error')\n",
    "    #print(e.message)"
   ]
  }
 ],
 "metadata": {
  "kernelspec": {
   "display_name": "Python 3",
   "language": "python",
   "name": "python3"
  },
  "language_info": {
   "codemirror_mode": {
    "name": "ipython",
    "version": 3
   },
   "file_extension": ".py",
   "mimetype": "text/x-python",
   "name": "python",
   "nbconvert_exporter": "python",
   "pygments_lexer": "ipython3",
   "version": "3.7.6"
  }
 },
 "nbformat": 4,
 "nbformat_minor": 4
}
