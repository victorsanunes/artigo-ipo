{
 "cells": [
  {
   "cell_type": "markdown",
   "metadata": {},
   "source": [
    "# Exact Method\n",
    "Using Gurobi solver"
   ]
  },
  {
   "cell_type": "code",
<<<<<<< Updated upstream
   "execution_count": 1,
=======
   "execution_count": 20,
>>>>>>> Stashed changes
   "metadata": {},
   "outputs": [],
   "source": [
    "import math\n",
    "import pandas as pd\n",
    "import gurobipy as gp\n",
    "from gurobipy import GRB\n",
    "import numpy as np"
   ]
  },
  {
   "cell_type": "code",
<<<<<<< Updated upstream
   "execution_count": 2,
=======
   "execution_count": 23,
>>>>>>> Stashed changes
   "metadata": {},
   "outputs": [],
   "source": [
    "df = pd.read_csv('datasets/real-datasets/compas_metadata.csv').drop(columns = ['instances'])\n",
<<<<<<< Updated upstream
=======
    "display(df)\n",
>>>>>>> Stashed changes
    "performance_columns = [col for col in df.columns if col.startswith('algo')]\n",
    "X = df.drop(columns = performance_columns)\n",
    "Y = df[performance_columns][['algo_bagging']]\n",
    "F = X.to_numpy()\n",
    "Y = Y.to_numpy()\n",
    "\n",
    "# Como pelo jeito não consigo modelar nosso problema matricial, vamos pegar uma parte de F e Y\n",
    "F = np.array(F[0,0])\n",
    "y = np.array(Y[0][0])"
   ]
  },
  {
   "cell_type": "code",
<<<<<<< Updated upstream
   "execution_count": 3,
   "metadata": {},
   "outputs": [
    {
     "name": "stdout",
     "output_type": "stream",
     "text": [
      "Restricted license - for non-production use only - expires 2022-01-13\n",
      "Changed value of parameter NonConvex to 2\n",
      "   Prev: -1  Min: -1  Max: 2  Default: -1\n",
      "Gurobi Optimizer version 9.1.2 build v9.1.2rc0 (mac64)\n",
      "Thread count: 2 physical cores, 4 logical processors, using up to 4 threads\n",
      "Optimize a model with 0 rows, 3 columns and 0 nonzeros\n",
      "Model fingerprint: 0x07f362a7\n",
      "Model has 2 quadratic objective terms\n",
      "Coefficient statistics:\n",
      "  Matrix range     [0e+00, 0e+00]\n",
      "  Objective range  [0e+00, 0e+00]\n",
      "  QObjective range [2e+00, 2e+00]\n",
      "  Bounds range     [0e+00, 0e+00]\n",
      "  RHS range        [0e+00, 0e+00]\n",
      "\n",
      "Continuous model is non-convex -- solving as a MIP.\n",
      "\n",
      "Found heuristic solution: objective 1.6006911\n",
      "Found heuristic solution: objective -6.53809e+18\n",
      "Presolve time: 0.00s\n",
      "Presolved: 5 rows, 7 columns, 11 nonzeros\n",
      "Presolved model has 2 bilinear constraint(s)\n",
      "Variable types: 7 continuous, 0 integer (0 binary)\n",
      "\n",
      "Root relaxation: unbounded, 3 iterations, 0.00 seconds\n",
      "\n",
      "    Nodes    |    Current Node    |     Objective Bounds      |     Work\n",
      " Expl Unexpl |  Obj  Depth IntInf | Incumbent    BestBd   Gap | It/Node Time\n",
      "\n",
      "     0     0  postponed    0      -6.538e+18          -      -     -    0s\n",
      "     0     0  postponed    0      -6.538e+18          -      -     -    0s\n",
      "     0     2  postponed    0      -6.538e+18          -      -     -    0s\n",
      "*37043 35308             115    -9.85922e+18          -      -   0.1    1s\n",
      "*37045 35308             116    -1.97184e+19          -      -   0.1    1s\n",
      "*37047 35308             117    -3.94369e+19          -      -   0.1    1s\n",
      "*37049 35308             118    -7.88737e+19          -      -   0.1    1s\n",
      "*37051 35308             119    -1.57747e+20          -      -   0.1    1s\n",
      "*37053 35308             120    -3.15495e+20          -      -   0.1    1s\n",
      "*37055 35308             121    -6.30990e+20          -      -   0.1    1s\n",
      "*37057 35308             122    -1.26198e+21          -      -   0.1    1s\n",
      "*37059 35308             123    -2.52396e+21          -      -   0.1    1s\n",
      "*37061 35308             124    -5.04792e+21          -      -   0.1    1s\n",
      "*37063 35308             125    -1.00958e+22          -      -   0.1    1s\n",
      "*37065 35308             126    -2.01917e+22          -      -   0.1    1s\n",
      "*37067 35308             127    -4.03833e+22          -      -   0.1    1s\n",
      "*37069 35308             128    -8.07667e+22          -      -   0.1    1s\n",
      "*37071 35308             129    -1.61533e+23          -      -   0.1    1s\n",
      "*37073 35308             130    -3.23067e+23          -      -   0.1    1s\n",
      "*37075 35308             131    -6.46134e+23          -      -   0.1    1s\n",
      "*37077 35308             132    -1.29227e+24          -      -   0.1    1s\n",
      "*37079 35308             133    -2.58453e+24          -      -   0.1    1s\n",
      "*37081 35308             134    -5.16907e+24          -      -   0.1    1s\n",
      "*37083 35308             135    -1.03381e+25          -      -   0.1    1s\n",
      "*37085 35308             136    -2.06763e+25          -      -   0.1    1s\n",
      "*37947 35308             136    -2.06763e+25          -      -   0.1    1s\n",
      "*51236 46107             139    -5.75097e+25          -      -   0.1    2s\n",
      "*51238 46107             140    -1.15019e+26          -      -   0.1    2s\n",
      "*51242 46107             143    -1.43774e+26          -      -   0.1    2s\n",
      "\n",
      "Explored 54152 nodes (8823 simplex iterations) in 2.15 seconds\n",
      "Thread count was 4 (of 4 available processors)\n",
      "\n",
      "Solution count 10: -1.43774e+26 -1.15019e+26 -5.75097e+25 ... -6.46134e+23\n",
      "\n",
      "Model is unbounded\n",
      "Best objective -1.437741852709e+26, best bound -, gap -\n",
      "Ar 2e+06\n",
      "Br 8.79609e+19\n",
      "cr 999976\n",
      "Obj: -1.43774e+26\n"
=======
   "execution_count": 28,
   "metadata": {},
   "outputs": [],
   "source": [
    "mod = gp.Model(\"projection\") "
   ]
  },
  {
   "cell_type": "code",
   "execution_count": 29,
   "metadata": {},
   "outputs": [],
   "source": [
    "Ar = mod.addMVar(shape=(2, m), vtype=GRB.CONTINUOUS, name=\"Ar\") \n",
    "Br = mod.addMVar(shape=(m, 2), vtype=GRB.CONTINUOUS, name=\"Br\")\n",
    "cr = mod.addMVar(shape= (2, 1), vtype=GRB.CONTINUOUS, name=\"cr\")"
   ]
  },
  {
   "cell_type": "code",
   "execution_count": 54,
   "metadata": {},
   "outputs": [
    {
     "data": {
      "text/plain": [
       "(2, 5278)"
      ]
     },
     "execution_count": 54,
     "metadata": {},
     "output_type": "execute_result"
    }
   ],
   "source": [
    "Ar.shape"
   ]
  },
  {
   "cell_type": "code",
   "execution_count": 53,
   "metadata": {},
   "outputs": [
    {
     "ename": "GurobiError",
     "evalue": "Variable is not a 1D MVar object",
     "output_type": "error",
     "traceback": [
      "\u001b[0;31m---------------------------------------------------------------------------\u001b[0m",
      "\u001b[0;31mGurobiError\u001b[0m                               Traceback (most recent call last)",
      "\u001b[0;32m<ipython-input-53-889f1e92c8d6>\u001b[0m in \u001b[0;36m<module>\u001b[0;34m\u001b[0m\n\u001b[0;32m----> 1\u001b[0;31m \u001b[0mmod\u001b[0m\u001b[0;34m.\u001b[0m\u001b[0msetObjective\u001b[0m\u001b[0;34m(\u001b[0m\u001b[0mAr\u001b[0m \u001b[0;34m@\u001b[0m \u001b[0mF\u001b[0m\u001b[0;34m)\u001b[0m\u001b[0;34m\u001b[0m\u001b[0;34m\u001b[0m\u001b[0m\n\u001b[0m",
      "\u001b[0;32msrc/gurobipy/mvar.pxi\u001b[0m in \u001b[0;36mgurobipy.MVar.__matmul__\u001b[0;34m()\u001b[0m\n",
      "\u001b[0;32msrc/gurobipy/mlinexpr.pxi\u001b[0m in \u001b[0;36mgurobipy.MLinExpr.__init__\u001b[0;34m()\u001b[0m\n",
      "\u001b[0;31mGurobiError\u001b[0m: Variable is not a 1D MVar object"
     ]
    }
   ],
   "source": [
    "mod.setObjective(Ar @ F)"
   ]
  },
  {
   "cell_type": "code",
   "execution_count": 43,
   "metadata": {},
   "outputs": [
    {
     "ename": "GurobiError",
     "evalue": "Variable is not a 1D MVar object",
     "output_type": "error",
     "traceback": [
      "\u001b[0;31m---------------------------------------------------------------------------\u001b[0m",
      "\u001b[0;31mGurobiError\u001b[0m                               Traceback (most recent call last)",
      "\u001b[0;32m<ipython-input-43-f7658ed6d0dd>\u001b[0m in \u001b[0;36m<module>\u001b[0;34m\u001b[0m\n\u001b[0;32m----> 1\u001b[0;31m \u001b[0mlhs\u001b[0m \u001b[0;34m=\u001b[0m \u001b[0mgp\u001b[0m\u001b[0;34m.\u001b[0m\u001b[0mQuadExpr\u001b[0m\u001b[0;34m(\u001b[0m\u001b[0mgp\u001b[0m\u001b[0;34m.\u001b[0m\u001b[0mquicksum\u001b[0m\u001b[0;34m(\u001b[0m\u001b[0;34m[\u001b[0m\u001b[0mF\u001b[0m \u001b[0;34m,\u001b[0m \u001b[0;34m-\u001b[0m\u001b[0mnp\u001b[0m\u001b[0;34m.\u001b[0m\u001b[0mdot\u001b[0m\u001b[0;34m(\u001b[0m\u001b[0mBr\u001b[0m\u001b[0;34m,\u001b[0m \u001b[0mnp\u001b[0m\u001b[0;34m.\u001b[0m\u001b[0mdot\u001b[0m\u001b[0;34m(\u001b[0m\u001b[0mAr\u001b[0m\u001b[0;34m,\u001b[0m \u001b[0mF\u001b[0m\u001b[0;34m)\u001b[0m\u001b[0;34m)\u001b[0m\u001b[0;34m]\u001b[0m\u001b[0;34m)\u001b[0m\u001b[0;34m)\u001b[0m\u001b[0;34m\u001b[0m\u001b[0;34m\u001b[0m\u001b[0m\n\u001b[0m\u001b[1;32m      2\u001b[0m \u001b[0;34m\u001b[0m\u001b[0m\n\u001b[1;32m      3\u001b[0m \u001b[0mgp\u001b[0m\u001b[0;34m.\u001b[0m\u001b[0mqui\u001b[0m\u001b[0;34m\u001b[0m\u001b[0;34m\u001b[0m\u001b[0m\n\u001b[1;32m      4\u001b[0m \u001b[0;31m# mod.setObjective(np.sum(np.square(F - np.matmul(Br, np.matmul(Ar, F)))) +\u001b[0m\u001b[0;34m\u001b[0m\u001b[0;34m\u001b[0m\u001b[0;34m\u001b[0m\u001b[0m\n\u001b[1;32m      5\u001b[0m \u001b[0;31m#                    np.sum(np.square(Y.transpose - np.matmul(cr, np.matmul(Ar, F)))), GRB.MINIMIZE)\u001b[0m\u001b[0;34m\u001b[0m\u001b[0;34m\u001b[0m\u001b[0;34m\u001b[0m\u001b[0m\n",
      "\u001b[0;32m<__array_function__ internals>\u001b[0m in \u001b[0;36mdot\u001b[0;34m(*args, **kwargs)\u001b[0m\n",
      "\u001b[0;32msrc/gurobipy/mvar.pxi\u001b[0m in \u001b[0;36mgurobipy.MVar.__mul__\u001b[0;34m()\u001b[0m\n",
      "\u001b[0;32msrc/gurobipy/mvar.pxi\u001b[0m in \u001b[0;36mgurobipy.MVar._scalar_mult\u001b[0;34m()\u001b[0m\n",
      "\u001b[0;32msrc/gurobipy/mvar.pxi\u001b[0m in \u001b[0;36mgurobipy.MVar._tomlinexpr\u001b[0;34m()\u001b[0m\n",
      "\u001b[0;32msrc/gurobipy/mlinexpr.pxi\u001b[0m in \u001b[0;36mgurobipy.MLinExpr.__init__\u001b[0;34m()\u001b[0m\n",
      "\u001b[0;31mGurobiError\u001b[0m: Variable is not a 1D MVar object"
     ]
    }
   ],
   "source": [
    "lhs = gp.QuadExpr(gp.quicksum([F , -np.dot(Br, np.dot(Ar, F))]))\n",
    "\n",
    "gp.MQuadExpr()\n",
    "# mod.setObjective(np.sum(np.square(F - np.matmul(Br, np.matmul(Ar, F)))) + \n",
    "#                    np.sum(np.square(Y.transpose - np.matmul(cr, np.matmul(Ar, F)))), GRB.MINIMIZE)"
   ]
  },
  {
   "cell_type": "code",
   "execution_count": 26,
   "metadata": {},
   "outputs": [
    {
     "ename": "ValueError",
     "evalue": "matmul: Input operand 0 does not have enough dimensions (has 0, gufunc core with signature (n?,k),(k,m?)->(n?,m?) requires 1)",
     "output_type": "error",
     "traceback": [
      "\u001b[0;31m---------------------------------------------------------------------------\u001b[0m",
      "\u001b[0;31mValueError\u001b[0m                                Traceback (most recent call last)",
      "\u001b[0;32m<ipython-input-26-6a909ace8735>\u001b[0m in \u001b[0;36m<module>\u001b[0;34m\u001b[0m\n\u001b[1;32m     10\u001b[0m \u001b[0;34m\u001b[0m\u001b[0m\n\u001b[1;32m     11\u001b[0m     \u001b[0;31m# Set objective\u001b[0m\u001b[0;34m\u001b[0m\u001b[0;34m\u001b[0m\u001b[0;34m\u001b[0m\u001b[0m\n\u001b[0;32m---> 12\u001b[0;31m     mod.setObjective(np.sum(np.square(F - np.matmul(Br, np.matmul(Ar, F)))) + \n\u001b[0m\u001b[1;32m     13\u001b[0m                    np.sum(np.square(Y.transpose - np.matmul(cr, np.matmul(Ar, F)))), GRB.MINIMIZE)\n\u001b[1;32m     14\u001b[0m \u001b[0;34m\u001b[0m\u001b[0m\n",
      "\u001b[0;31mValueError\u001b[0m: matmul: Input operand 0 does not have enough dimensions (has 0, gufunc core with signature (n?,k),(k,m?)->(n?,m?) requires 1)"
>>>>>>> Stashed changes
     ]
    }
   ],
   "source": [
    "\n",
    "try:\n",
    "\n",
    "    # Create a new model\n",
    "    mod = gp.Model(\"mod1\") \n",
    "\n",
    "    # Create variables\n",
    "    Ar = mod.addVar(vtype=GRB.CONTINUOUS, name=\"Ar\") \n",
    "    Br = mod.addVar(vtype=GRB.CONTINUOUS, name=\"Br\")\n",
    "    cr = mod.addVar(vtype=GRB.CONTINUOUS, name=\"cr\")\n",
    "    \n",
    "    # Set objective\n",
    "    mod.setObjective( (F - Br*Ar*F) + (y - cr*Ar*F), GRB.MINIMIZE\n",
    "                    )\n",
    "    \n",
    "    # Adjust parameters\n",
    "    mod.params.NonConvex = 2\n",
    "\n",
    "    # Optimize model\n",
    "    mod.optimize()\n",
    "    \n",
    "    # print variables\n",
    "    for v in mod.getVars():\n",
    "        print('%s %g' % (v.varName, v.x))\n",
    "        \n",
    "    #print optimized objective function\n",
    "    print('Obj: %g' % mod.objVal)\n",
    "\n",
    "except gp.GurobiError as e:\n",
    "    print('Error code ' + str(e.errno) + \": \" + str(e))\n",
    "\n",
    "except AttributeError:\n",
    "    print('Encountered an attribute error')\n",
    "    print(e.message)"
   ]
  },
  {
   "cell_type": "code",
   "execution_count": null,
   "metadata": {},
   "outputs": [],
   "source": []
  }
 ],
 "metadata": {
  "kernelspec": {
   "display_name": "Python 3",
   "language": "python",
   "name": "python3"
  },
  "language_info": {
   "codemirror_mode": {
    "name": "ipython",
    "version": 3
   },
   "file_extension": ".py",
   "mimetype": "text/x-python",
   "name": "python",
   "nbconvert_exporter": "python",
   "pygments_lexer": "ipython3",
   "version": "3.7.6"
  }
 },
 "nbformat": 4,
 "nbformat_minor": 4
}
