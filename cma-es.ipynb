{
 "cells": [
  {
   "cell_type": "code",
   "execution_count": 46,
   "metadata": {},
   "outputs": [],
   "source": [
    "import math\n",
    "import numpy as np\n",
    "import pandas as pd\n",
    "from cmaes import CMA"
   ]
  },
  {
   "cell_type": "markdown",
   "metadata": {},
   "source": [
    "## Objective Function"
   ]
  },
  {
   "cell_type": "code",
   "execution_count": 42,
   "metadata": {},
   "outputs": [],
   "source": [
    "def ackley(x1, x2):\n",
    "    # https://www.sfu.ca/~ssurjano/ackley.html\n",
    "    return (\n",
    "        -20 * math.exp(-0.2 * math.sqrt(0.5 * (x1 ** 2 + x2 ** 2)))\n",
    "        - math.exp(0.5 * (math.cos(2 * math.pi * x1) + math.cos(2 * math.pi * x2)))\n",
    "        + math.e + 20\n",
    "    )\n",
    "\n",
    "def errorfcn(alpha, Xbar, n, m):\n",
    "    f1 = np.reshape(alpha[(2 * n):], (m, 2))\n",
    "    f2 = np.reshape(alpha[0:2 * n], (2, n))\n",
    "    f3 = Xbar[:, 0:n].T\n",
    "    r = (Xbar - np.dot(f1, np.dot(f2, f3)).T) ** 2\n",
    "    return np.nanmean(np.nanmean(r, axis=0))"
   ]
  },
  {
   "cell_type": "code",
   "execution_count": 47,
   "metadata": {},
   "outputs": [],
   "source": [
    "df = pd.read_csv('datasets/5_dimension_pol1.csv')\n",
    "X = df.drop(columns = ['y'])\n",
    "Y = df[['y']]"
   ]
  },
  {
   "cell_type": "code",
   "execution_count": 83,
   "metadata": {},
   "outputs": [
    {
     "name": "stdout",
     "output_type": "stream",
     "text": [
      "<class 'pandas.core.frame.DataFrame'>\n",
      "RangeIndex: 1000 entries, 0 to 999\n",
      "Data columns (total 6 columns):\n",
      " #   Column  Non-Null Count  Dtype  \n",
      "---  ------  --------------  -----  \n",
      " 0   V1      1000 non-null   float64\n",
      " 1   V2      1000 non-null   float64\n",
      " 2   V3      1000 non-null   float64\n",
      " 3   V4      1000 non-null   float64\n",
      " 4   V5      1000 non-null   float64\n",
      " 5   y       1000 non-null   int64  \n",
      "dtypes: float64(5), int64(1)\n",
      "memory usage: 47.0 KB\n"
     ]
    }
   ],
   "source": [
    "df.info()"
   ]
  },
  {
   "cell_type": "markdown",
   "metadata": {},
   "source": [
    "## IPOP-CMA-ES"
   ]
  },
  {
   "cell_type": "code",
   "execution_count": 100,
   "metadata": {},
   "outputs": [
    {
     "name": "stdout",
     "output_type": "stream",
     "text": [
      "pop size:  13\n"
     ]
    }
   ],
   "source": [
    "Xbar = np.hstack((X, Y))\n",
    "n = X.shape[1]\n",
    "m = Xbar.shape[1]\n",
    "\n",
    "search_space = 50#32.768\n",
    "bounds = list()\n",
    "bounds.append([[-search_space, search_space] for i in range(2 * m + 2 * n)])\n",
    "bounds = np.array(bounds).reshape((2 * m + 2 * n, 2))\n",
    "\n",
    "lower_bounds, upper_bounds = bounds[:, 0], bounds[:, 1]\n",
    "\n",
    "mean = lower_bounds + (np.random.rand(2 * m + 2 * n) * (upper_bounds - lower_bounds))\n",
    "sigma = search_space * 2 / 5  # 1/5 of the domain width\n",
    "optimizer = CMA(mean=mean, sigma=sigma, bounds=bounds, seed=0)\n",
    "\n",
    "for generation in range(30):\n",
    "    solutions = []\n",
    "    \n",
    "    for _ in range(optimizer.population_size):\n",
    "        alpha = optimizer.ask()\n",
    "        value = errorfcn(alpha = alpha, Xbar = Xbar, n = n, m = m)\n",
    "        solutions.append((alpha, value))\n",
    "    \n",
    "#     print(f\"#{generation} {value}\")\n",
    "    optimizer.tell(solutions)\n",
    "\n",
    "    if optimizer.should_stop():\n",
    "        print('Optimizer should stop')\n",
    "        # popsize multiplied by 2 (or 3) before each restart.\n",
    "        popsize = optimizer.population_size * 2\n",
    "        \n",
    "        mean = lower_bounds + (np.random.rand(2 * m + 2 * n) * (upper_bounds - lower_bounds))\n",
    "        optimizer = CMA(mean=mean, sigma=sigma, population_size=popsize)\n",
    "        print(f\"Restart CMA-ES with popsize={popsize}\")"
   ]
  },
  {
   "cell_type": "code",
   "execution_count": 94,
   "metadata": {},
   "outputs": [
    {
     "data": {
      "text/plain": [
       "[1318.30828799983,\n",
       " 7648.766654533448,\n",
       " 9299.958448588905,\n",
       " 9402.004745992652,\n",
       " 11902.7859633664,\n",
       " 13755.695779864973,\n",
       " 14127.59490623561,\n",
       " 18589.68336465411,\n",
       " 18907.476009702452,\n",
       " 19907.982995309892,\n",
       " 25436.29533324385,\n",
       " 28772.4864907045,\n",
       " 29473.214547991545]"
      ]
     },
     "execution_count": 94,
     "metadata": {},
     "output_type": "execute_result"
    }
   ],
   "source": [
    "function_values = [s[1] for s in solutions] \n",
    "function_values"
   ]
  },
  {
   "cell_type": "markdown",
   "metadata": {},
   "source": [
    "## BIPOP-CMA-ES"
   ]
  },
  {
   "cell_type": "code",
   "execution_count": 32,
   "metadata": {},
   "outputs": [
    {
     "name": "stdout",
     "output_type": "stream",
     "text": [
      "#0 0.528235329174902 (x1=6.139172164391592, x2 = 5.61093683521669)\n",
      "#0 -6.445325647637464 (x1=2.4692938738940797, x2 = 8.914619521531543)\n",
      "#0 -4.054158803236985 (x1=4.645256496422147, x2 = 8.699415299659131)\n",
      "#0 -6.182454387120107 (x1=-0.07878898960467229, x2 = 6.103665397515435)\n",
      "#0 -4.424703273866822 (x1=2.126684999229745, x2 = 6.551388273096567)\n",
      "#0 4.045373043414878 (x1=7.747958699742153, x2 = 3.702585656327275)\n",
      "#1 -6.400856242843519 (x1=1.1385767723684803, x2 = 7.5394330152119995)\n",
      "#1 -7.087231787295645 (x1=2.2297537165380965, x2 = 9.316985503833742)\n",
      "#1 -1.241512249257283 (x1=-0.7644744447685636, x2 = 0.47703780448871935)\n",
      "#1 -4.481722219554313 (x1=3.022958160353115, x2 = 7.504680379907428)\n",
      "#1 -4.174580515222187 (x1=2.0071754058262923, x2 = 6.18175592104848)\n",
      "#1 -0.5558489938637972 (x1=1.032263421209032, x2 = 1.5881124150728292)\n",
      "#2 -6.460073379344831 (x1=3.383394334923237, x2 = 9.843467714268067)\n",
      "#2 -4.083503053574978 (x1=5.586024069317931, x2 = 9.669527122892909)\n",
      "#2 -8.125121255404373 (x1=0.7166760664672329, x2 = 8.841797321871606)\n",
      "#2 -7.503331494195809 (x1=1.0708946857856332, x2 = 8.574226179981443)\n",
      "#2 -4.990908511289568 (x1=3.1373384001158198, x2 = 8.128246911405387)\n",
      "#2 -5.418548620293963 (x1=1.4519814613497513, x2 = 6.8705300816437145)\n",
      "#3 -3.4739978631422277 (x1=2.9050035133225522, x2 = 6.37900137646478)\n",
      "#3 -5.707501346594881 (x1=2.1580273453744963, x2 = 7.865528691969377)\n",
      "#3 -8.35325840146167 (x1=1.0426099605347718, x2 = 9.395868361996442)\n",
      "#3 -3.6525488350194872 (x1=3.735665230758063, x2 = 7.38821406577755)\n",
      "#3 -10.27299769920259 (x1=-3.123365219994649, x2 = 7.14963247920794)\n",
      "#3 -5.866668143783096 (x1=0.9042912233424854, x2 = 6.770959367125582)\n",
      "#4 -13.522982180161959 (x1=-5.111657359533945, x2 = 8.411324820628014)\n",
      "#4 -12.288351487873348 (x1=-5.138009105829559, x2 = 7.150342382043789)\n",
      "#4 -10.505005031443165 (x1=-4.095926356898891, x2 = 6.409078674544274)\n",
      "#4 -9.729368905053189 (x1=-3.2818982710640165, x2 = 6.447470633989173)\n",
      "#4 -12.27318260998425 (x1=-6.379683433637847, x2 = 5.893499176346402)\n",
      "#4 -9.750731643618728 (x1=-2.6143374313971455, x2 = 7.1363942122215835)\n",
      "#5 -2.5149311832583843 (x1=1.8499631115394752, x2 = 4.3648942947978595)\n",
      "#5 -10.890604312004807 (x1=-1.6794671867655961, x2 = 9.211137125239212)\n",
      "#5 -12.278507716637101 (x1=-9.151486277995348, x2 = 3.127021438641754)\n",
      "#5 -17.211070747312952 (x1=-9.204160421444442, x2 = 8.00691032586851)\n",
      "#5 -10.018726605271592 (x1=-4.2146209172320095, x2 = 5.8041056880395825)\n",
      "#5 -15.505770521896075 (x1=-9.557945900266894, x2 = 5.947824621629181)\n",
      "#6 -8.209938345483373 (x1=-0.8261666361001172, x2 = 7.3837717093832556)\n",
      "#6 -17.4643529871666 (x1=-8.452378447819335, x2 = 9.011974539347262)\n",
      "#6 -18.559679550585095 (x1=-9.81747500189457, x2 = 8.742204548690523)\n",
      "#6 -13.287030122737523 (x1=-7.488370255744841, x2 = 5.798659866992682)\n",
      "#6 -8.191725396277754 (x1=-0.8661334280056163, x2 = 7.325591968272137)\n",
      "#6 -13.303496805134849 (x1=-3.3506824978736454, x2 = 9.952814307261203)\n",
      "#7 -14.327237926722889 (x1=-4.3619344132027695, x2 = 9.96530351352012)\n",
      "#7 -7.970575249142585 (x1=-0.8982500163141509, x2 = 7.072325232828434)\n",
      "#7 -15.276006305090263 (x1=-9.086256908616244, x2 = 6.189749396474019)\n",
      "#7 -11.315230761271819 (x1=-4.001988120798803, x2 = 7.313242640473016)\n",
      "#7 -6.5778854878842505 (x1=2.4922831816091637, x2 = 9.070168669493414)\n",
      "#7 -15.157355521565385 (x1=-7.486618747258503, x2 = 7.670736774306883)\n",
      "#8 -15.285601723870407 (x1=-7.22121941334094, x2 = 8.064382310529467)\n",
      "#8 -7.015522080970909 (x1=0.5611975157766906, x2 = 7.5767195967475995)\n",
      "#8 -12.350529385890187 (x1=-4.415932623786803, x2 = 7.934596762103384)\n",
      "#8 -13.984738481068616 (x1=-7.586739200098716, x2 = 6.3979992809699)\n",
      "#8 -13.80999350962913 (x1=-9.396417191376544, x2 = 4.413576318252585)\n",
      "#8 -11.098419061897896 (x1=-5.3703510205212215, x2 = 5.728068041376674)\n",
      "#9 -15.806833515286858 (x1=-6.562861661434833, x2 = 9.243971853852024)\n",
      "#9 -15.721581305921411 (x1=-8.807156987847678, x2 = 6.914424318073733)\n",
      "#9 -9.998518303423223 (x1=-6.211556284435594, x2 = 3.786962018987629)\n",
      "#9 -15.980549385937206 (x1=-6.788807379993169, x2 = 9.191742005944038)\n",
      "#9 -16.89030012962114 (x1=-9.383912121433656, x2 = 7.50638800818748)\n",
      "#9 -18.154598237888205 (x1=-8.489883420263292, x2 = 9.664714817624914)\n"
     ]
    }
   ],
   "source": [
    "bounds = np.array([[-10, 10], \n",
    "                   [-10, 10]])\n",
    "lower_bounds, upper_bounds = bounds[:, 0], bounds[:, 1]\n",
    "\n",
    "mean = lower_bounds + (np.random.rand(2) * (upper_bounds - lower_bounds))\n",
    "sigma = 10 * 2 / 5  # 1/5 of the domain width\n",
    "optimizer = CMA(mean=mean, sigma=sigma, bounds=bounds, seed=0)\n",
    "\n",
    "n_restarts = 0  # A small restart doesn't count in the n_restarts\n",
    "small_n_eval, large_n_eval = 0, 0\n",
    "popsize0 = optimizer.population_size\n",
    "inc_popsize = 2\n",
    "\n",
    "# Initial run is with \"normal\" population size; it is\n",
    "# the large population before first doubling, but its\n",
    "# budget accounting is the same as in case of small\n",
    "# population.\n",
    "poptype = \"small\"\n",
    "\n",
    "for generation in range(10):\n",
    "    solutions = []\n",
    "    for _ in range(optimizer.population_size):\n",
    "        x = optimizer.ask()\n",
    "        value = ackley(x[0], x[1])\n",
    "        solutions.append((x, value))\n",
    "        print(f\"#{generation} {value} (x1={x[0]}, x2 = {x[1]})\")\n",
    "    optimizer.tell(solutions)\n",
    "\n",
    "    if optimizer.should_stop():\n",
    "        n_eval = optimizer.population_size * optimizer.generation\n",
    "        if poptype == \"small\":\n",
    "            small_n_eval += n_eval\n",
    "        else:  # poptype == \"large\"\n",
    "            large_n_eval += n_eval\n",
    "\n",
    "        if small_n_eval < large_n_eval:\n",
    "            poptype = \"small\"\n",
    "            popsize_multiplier = inc_popsize ** n_restarts\n",
    "            popsize = math.floor(\n",
    "                popsize0 * popsize_multiplier ** (np.random.uniform() ** 2)\n",
    "            )\n",
    "        else:\n",
    "            poptype = \"large\"\n",
    "            n_restarts += 1\n",
    "            popsize = popsize0 * (inc_popsize ** n_restarts)\n",
    "\n",
    "        mean = lower_bounds + (np.random.rand(2) * (upper_bounds - lower_bounds))\n",
    "        optimizer = CMA(\n",
    "            mean=mean,\n",
    "            sigma=sigma,\n",
    "            bounds=bounds,\n",
    "            population_size=popsize,\n",
    "        )\n",
    "        print(\"Restart CMA-ES with popsize={} ({})\".format(popsize, poptype))"
   ]
  },
  {
   "cell_type": "code",
   "execution_count": 33,
   "metadata": {},
   "outputs": [
    {
     "data": {
      "text/plain": [
       "[(array([-8.48988342,  9.66471482]), -18.154598237888205),\n",
       " (array([-9.38391212,  7.50638801]), -16.89030012962114),\n",
       " (array([-6.78880738,  9.19174201]), -15.980549385937206),\n",
       " (array([-6.56286166,  9.24397185]), -15.806833515286858),\n",
       " (array([-8.80715699,  6.91442432]), -15.721581305921411),\n",
       " (array([-6.21155628,  3.78696202]), -9.998518303423223)]"
      ]
     },
     "execution_count": 33,
     "metadata": {},
     "output_type": "execute_result"
    }
   ],
   "source": [
    "solutions"
   ]
  },
  {
   "cell_type": "code",
   "execution_count": 37,
   "metadata": {},
   "outputs": [
    {
     "ename": "ValueError",
     "evalue": "The user-provided objective function must return a scalar value.",
     "output_type": "error",
     "traceback": [
      "\u001b[0;31m---------------------------------------------------------------------------\u001b[0m",
      "\u001b[0;31mValueError\u001b[0m                                Traceback (most recent call last)",
      "\u001b[0;32m~/anaconda3/lib/python3.7/site-packages/scipy/optimize/optimize.py\u001b[0m in \u001b[0;36m_approx_fprime_helper\u001b[0;34m(xk, f, epsilon, args, f0)\u001b[0m\n\u001b[1;32m    699\u001b[0m             \u001b[0;32mtry\u001b[0m\u001b[0;34m:\u001b[0m\u001b[0;34m\u001b[0m\u001b[0;34m\u001b[0m\u001b[0m\n\u001b[0;32m--> 700\u001b[0;31m                 \u001b[0mdf\u001b[0m \u001b[0;34m=\u001b[0m \u001b[0mdf\u001b[0m\u001b[0;34m.\u001b[0m\u001b[0mitem\u001b[0m\u001b[0;34m(\u001b[0m\u001b[0;34m)\u001b[0m\u001b[0;34m\u001b[0m\u001b[0;34m\u001b[0m\u001b[0m\n\u001b[0m\u001b[1;32m    701\u001b[0m             \u001b[0;32mexcept\u001b[0m \u001b[0;34m(\u001b[0m\u001b[0mValueError\u001b[0m\u001b[0;34m,\u001b[0m \u001b[0mAttributeError\u001b[0m\u001b[0;34m)\u001b[0m\u001b[0;34m:\u001b[0m\u001b[0;34m\u001b[0m\u001b[0;34m\u001b[0m\u001b[0m\n",
      "\u001b[0;31mValueError\u001b[0m: can only convert an array of size 1 to a Python scalar",
      "\nDuring handling of the above exception, another exception occurred:\n",
      "\u001b[0;31mValueError\u001b[0m                                Traceback (most recent call last)",
      "\u001b[0;32m<ipython-input-37-dc8d5bcc3ddf>\u001b[0m in \u001b[0;36m<module>\u001b[0;34m\u001b[0m\n\u001b[1;32m      1\u001b[0m \u001b[0;32mfrom\u001b[0m \u001b[0mscipy\u001b[0m\u001b[0;34m.\u001b[0m\u001b[0moptimize\u001b[0m \u001b[0;32mimport\u001b[0m \u001b[0mfmin_bfgs\u001b[0m\u001b[0;34m\u001b[0m\u001b[0;34m\u001b[0m\u001b[0m\n\u001b[1;32m      2\u001b[0m \u001b[0;34m\u001b[0m\u001b[0m\n\u001b[0;32m----> 3\u001b[0;31m \u001b[0mfmin_bfgs\u001b[0m\u001b[0;34m(\u001b[0m\u001b[0mf\u001b[0m \u001b[0;34m=\u001b[0m \u001b[0;32mlambda\u001b[0m \u001b[0ma\u001b[0m\u001b[0;34m:\u001b[0m \u001b[0mackley\u001b[0m\u001b[0;34m(\u001b[0m\u001b[0ma\u001b[0m\u001b[0;34m,\u001b[0m \u001b[0ma\u001b[0m\u001b[0;34m)\u001b[0m\u001b[0;34m,\u001b[0m \u001b[0mx0\u001b[0m \u001b[0;34m=\u001b[0m \u001b[0;34m[\u001b[0m\u001b[0;36m10\u001b[0m\u001b[0;34m,\u001b[0m \u001b[0;36m10\u001b[0m\u001b[0;34m]\u001b[0m\u001b[0;34m,\u001b[0m \u001b[0mfull_output\u001b[0m\u001b[0;34m=\u001b[0m\u001b[0;32mTrue\u001b[0m\u001b[0;34m,\u001b[0m \u001b[0mdisp\u001b[0m\u001b[0;34m=\u001b[0m\u001b[0;32mFalse\u001b[0m\u001b[0;34m)\u001b[0m\u001b[0;34m\u001b[0m\u001b[0;34m\u001b[0m\u001b[0m\n\u001b[0m",
      "\u001b[0;32m~/anaconda3/lib/python3.7/site-packages/scipy/optimize/optimize.py\u001b[0m in \u001b[0;36mfmin_bfgs\u001b[0;34m(f, x0, fprime, args, gtol, norm, epsilon, maxiter, full_output, disp, retall, callback)\u001b[0m\n\u001b[1;32m    950\u001b[0m             'return_all': retall}\n\u001b[1;32m    951\u001b[0m \u001b[0;34m\u001b[0m\u001b[0m\n\u001b[0;32m--> 952\u001b[0;31m     \u001b[0mres\u001b[0m \u001b[0;34m=\u001b[0m \u001b[0m_minimize_bfgs\u001b[0m\u001b[0;34m(\u001b[0m\u001b[0mf\u001b[0m\u001b[0;34m,\u001b[0m \u001b[0mx0\u001b[0m\u001b[0;34m,\u001b[0m \u001b[0margs\u001b[0m\u001b[0;34m,\u001b[0m \u001b[0mfprime\u001b[0m\u001b[0;34m,\u001b[0m \u001b[0mcallback\u001b[0m\u001b[0;34m=\u001b[0m\u001b[0mcallback\u001b[0m\u001b[0;34m,\u001b[0m \u001b[0;34m**\u001b[0m\u001b[0mopts\u001b[0m\u001b[0;34m)\u001b[0m\u001b[0;34m\u001b[0m\u001b[0;34m\u001b[0m\u001b[0m\n\u001b[0m\u001b[1;32m    953\u001b[0m \u001b[0;34m\u001b[0m\u001b[0m\n\u001b[1;32m    954\u001b[0m     \u001b[0;32mif\u001b[0m \u001b[0mfull_output\u001b[0m\u001b[0;34m:\u001b[0m\u001b[0;34m\u001b[0m\u001b[0;34m\u001b[0m\u001b[0m\n",
      "\u001b[0;32m~/anaconda3/lib/python3.7/site-packages/scipy/optimize/optimize.py\u001b[0m in \u001b[0;36m_minimize_bfgs\u001b[0;34m(fun, x0, args, jac, callback, gtol, norm, eps, maxiter, disp, return_all, **unknown_options)\u001b[0m\n\u001b[1;32m   1007\u001b[0m     \u001b[0;32melse\u001b[0m\u001b[0;34m:\u001b[0m\u001b[0;34m\u001b[0m\u001b[0;34m\u001b[0m\u001b[0m\n\u001b[1;32m   1008\u001b[0m         \u001b[0mgrad_calls\u001b[0m\u001b[0;34m,\u001b[0m \u001b[0mmyfprime\u001b[0m \u001b[0;34m=\u001b[0m \u001b[0mwrap_function\u001b[0m\u001b[0;34m(\u001b[0m\u001b[0mfprime\u001b[0m\u001b[0;34m,\u001b[0m \u001b[0margs\u001b[0m\u001b[0;34m)\u001b[0m\u001b[0;34m\u001b[0m\u001b[0;34m\u001b[0m\u001b[0m\n\u001b[0;32m-> 1009\u001b[0;31m     \u001b[0mgfk\u001b[0m \u001b[0;34m=\u001b[0m \u001b[0mmyfprime\u001b[0m\u001b[0;34m(\u001b[0m\u001b[0mx0\u001b[0m\u001b[0;34m)\u001b[0m\u001b[0;34m\u001b[0m\u001b[0;34m\u001b[0m\u001b[0m\n\u001b[0m\u001b[1;32m   1010\u001b[0m     \u001b[0mk\u001b[0m \u001b[0;34m=\u001b[0m \u001b[0;36m0\u001b[0m\u001b[0;34m\u001b[0m\u001b[0;34m\u001b[0m\u001b[0m\n\u001b[1;32m   1011\u001b[0m     \u001b[0mN\u001b[0m \u001b[0;34m=\u001b[0m \u001b[0mlen\u001b[0m\u001b[0;34m(\u001b[0m\u001b[0mx0\u001b[0m\u001b[0;34m)\u001b[0m\u001b[0;34m\u001b[0m\u001b[0;34m\u001b[0m\u001b[0m\n",
      "\u001b[0;32m~/anaconda3/lib/python3.7/site-packages/scipy/optimize/optimize.py\u001b[0m in \u001b[0;36mfunction_wrapper\u001b[0;34m(*wrapper_args)\u001b[0m\n\u001b[1;32m    325\u001b[0m     \u001b[0;32mdef\u001b[0m \u001b[0mfunction_wrapper\u001b[0m\u001b[0;34m(\u001b[0m\u001b[0;34m*\u001b[0m\u001b[0mwrapper_args\u001b[0m\u001b[0;34m)\u001b[0m\u001b[0;34m:\u001b[0m\u001b[0;34m\u001b[0m\u001b[0;34m\u001b[0m\u001b[0m\n\u001b[1;32m    326\u001b[0m         \u001b[0mncalls\u001b[0m\u001b[0;34m[\u001b[0m\u001b[0;36m0\u001b[0m\u001b[0;34m]\u001b[0m \u001b[0;34m+=\u001b[0m \u001b[0;36m1\u001b[0m\u001b[0;34m\u001b[0m\u001b[0;34m\u001b[0m\u001b[0m\n\u001b[0;32m--> 327\u001b[0;31m         \u001b[0;32mreturn\u001b[0m \u001b[0mfunction\u001b[0m\u001b[0;34m(\u001b[0m\u001b[0;34m*\u001b[0m\u001b[0;34m(\u001b[0m\u001b[0mwrapper_args\u001b[0m \u001b[0;34m+\u001b[0m \u001b[0margs\u001b[0m\u001b[0;34m)\u001b[0m\u001b[0;34m)\u001b[0m\u001b[0;34m\u001b[0m\u001b[0;34m\u001b[0m\u001b[0m\n\u001b[0m\u001b[1;32m    328\u001b[0m \u001b[0;34m\u001b[0m\u001b[0m\n\u001b[1;32m    329\u001b[0m     \u001b[0;32mreturn\u001b[0m \u001b[0mncalls\u001b[0m\u001b[0;34m,\u001b[0m \u001b[0mfunction_wrapper\u001b[0m\u001b[0;34m\u001b[0m\u001b[0;34m\u001b[0m\u001b[0m\n",
      "\u001b[0;32m~/anaconda3/lib/python3.7/site-packages/scipy/optimize/optimize.py\u001b[0m in \u001b[0;36mapprox_fprime\u001b[0;34m(xk, f, epsilon, *args)\u001b[0m\n\u001b[1;32m    763\u001b[0m \u001b[0;34m\u001b[0m\u001b[0m\n\u001b[1;32m    764\u001b[0m     \"\"\"\n\u001b[0;32m--> 765\u001b[0;31m     \u001b[0;32mreturn\u001b[0m \u001b[0m_approx_fprime_helper\u001b[0m\u001b[0;34m(\u001b[0m\u001b[0mxk\u001b[0m\u001b[0;34m,\u001b[0m \u001b[0mf\u001b[0m\u001b[0;34m,\u001b[0m \u001b[0mepsilon\u001b[0m\u001b[0;34m,\u001b[0m \u001b[0margs\u001b[0m\u001b[0;34m=\u001b[0m\u001b[0margs\u001b[0m\u001b[0;34m)\u001b[0m\u001b[0;34m\u001b[0m\u001b[0;34m\u001b[0m\u001b[0m\n\u001b[0m\u001b[1;32m    766\u001b[0m \u001b[0;34m\u001b[0m\u001b[0m\n\u001b[1;32m    767\u001b[0m \u001b[0;34m\u001b[0m\u001b[0m\n",
      "\u001b[0;32m~/anaconda3/lib/python3.7/site-packages/scipy/optimize/optimize.py\u001b[0m in \u001b[0;36m_approx_fprime_helper\u001b[0;34m(xk, f, epsilon, args, f0)\u001b[0m\n\u001b[1;32m    700\u001b[0m                 \u001b[0mdf\u001b[0m \u001b[0;34m=\u001b[0m \u001b[0mdf\u001b[0m\u001b[0;34m.\u001b[0m\u001b[0mitem\u001b[0m\u001b[0;34m(\u001b[0m\u001b[0;34m)\u001b[0m\u001b[0;34m\u001b[0m\u001b[0;34m\u001b[0m\u001b[0m\n\u001b[1;32m    701\u001b[0m             \u001b[0;32mexcept\u001b[0m \u001b[0;34m(\u001b[0m\u001b[0mValueError\u001b[0m\u001b[0;34m,\u001b[0m \u001b[0mAttributeError\u001b[0m\u001b[0;34m)\u001b[0m\u001b[0;34m:\u001b[0m\u001b[0;34m\u001b[0m\u001b[0;34m\u001b[0m\u001b[0m\n\u001b[0;32m--> 702\u001b[0;31m                 raise ValueError(\"The user-provided \"\n\u001b[0m\u001b[1;32m    703\u001b[0m                                  \u001b[0;34m\"objective function must \"\u001b[0m\u001b[0;34m\u001b[0m\u001b[0;34m\u001b[0m\u001b[0m\n\u001b[1;32m    704\u001b[0m                                  \"return a scalar value.\")\n",
      "\u001b[0;31mValueError\u001b[0m: The user-provided objective function must return a scalar value."
     ]
    }
   ],
   "source": [
    "from scipy.optimize import fmin_bfgs\n",
    "\n",
    "fmin_bfgs(f = lambda a: ackley(a, a), x0 = [10, 10], full_output=True, disp=False)\n"
   ]
  },
  {
   "cell_type": "code",
   "execution_count": null,
   "metadata": {},
   "outputs": [],
   "source": []
  }
 ],
 "metadata": {
  "kernelspec": {
   "display_name": "Python 3",
   "language": "python",
   "name": "python3"
  },
  "language_info": {
   "codemirror_mode": {
    "name": "ipython",
    "version": 3
   },
   "file_extension": ".py",
   "mimetype": "text/x-python",
   "name": "python",
   "nbconvert_exporter": "python",
   "pygments_lexer": "ipython3",
   "version": "3.7.6"
  }
 },
 "nbformat": 4,
 "nbformat_minor": 4
}
