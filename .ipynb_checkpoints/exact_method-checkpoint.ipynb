{
 "cells": [
  {
   "cell_type": "markdown",
   "metadata": {},
   "source": [
    "# Exact Method\n",
    "Using Gurobi solver"
   ]
  },
  {
   "cell_type": "code",
   "execution_count": 2,
   "metadata": {},
   "outputs": [],
   "source": [
    "import math\n",
    "import pandas as pd\n",
    "import gurobipy as gp\n",
    "from gurobipy import GRB\n",
    "import numpy as np"
   ]
  },
  {
   "cell_type": "code",
   "execution_count": 106,
   "metadata": {},
   "outputs": [
    {
     "name": "stdout",
     "output_type": "stream",
     "text": [
      "0.8172616228718668\n"
     ]
    }
   ],
   "source": [
    "df = pd.read_csv('datasets/real-datasets/compas_metadata.csv').drop(columns = ['instances'])\n",
    "performance_columns = [col for col in df.columns if col.startswith('algo')]\n",
    "X = df.drop(columns = performance_columns)\n",
    "Y = df[performance_columns][['algo_bagging']]\n",
    "F = X.to_numpy()\n",
    "Y = Y.to_numpy()\n",
    "\n",
    "# Como pelo jeito não consigo modelar nosso problema matricial, vamos pegar uma parte de F e Y\n",
    "F = F[0,0]\n",
    "Y = Y[0]"
   ]
  },
  {
   "cell_type": "code",
   "execution_count": 104,
   "metadata": {},
   "outputs": [
    {
     "ename": "ValueError",
     "evalue": "matmul: Input operand 0 does not have enough dimensions (has 0, gufunc core with signature (n?,k),(k,m?)->(n?,m?) requires 1)",
     "output_type": "error",
     "traceback": [
      "\u001b[0;31m---------------------------------------------------------------------------\u001b[0m",
      "\u001b[0;31mValueError\u001b[0m                                Traceback (most recent call last)",
      "\u001b[0;32m<ipython-input-104-69c12fc4fa27>\u001b[0m in \u001b[0;36m<module>\u001b[0;34m\u001b[0m\n\u001b[1;32m     13\u001b[0m     \u001b[0;31m#               np.sum(np.square(Y.transpose - np.matmul(cr, np.matmul(Ar, F)))), GRB.MINIMIZE)\u001b[0m\u001b[0;34m\u001b[0m\u001b[0;34m\u001b[0m\u001b[0;34m\u001b[0m\u001b[0m\n\u001b[1;32m     14\u001b[0m \u001b[0;34m\u001b[0m\u001b[0m\n\u001b[0;32m---> 15\u001b[0;31m     mod.setObjective( (Br * (Ar @ F))\n\u001b[0m\u001b[1;32m     16\u001b[0m                     )\n\u001b[1;32m     17\u001b[0m \u001b[0;34m\u001b[0m\u001b[0m\n",
      "\u001b[0;31mValueError\u001b[0m: matmul: Input operand 0 does not have enough dimensions (has 0, gufunc core with signature (n?,k),(k,m?)->(n?,m?) requires 1)"
     ]
    }
   ],
   "source": [
    "\n",
    "try:\n",
    "\n",
    "    # Create a new model\n",
    "    mod = gp.Model(\"mod1\") \n",
    "\n",
    "    # Create variables\n",
    "    Ar = mod.addVar(vtype=GRB.CONTINUOUS, name=\"Ar\") \n",
    "    Br = mod.addVar(vtype=GRB.CONTINUOUS, name=\"Br\")\n",
    "    cr = mod.addVar(vtype=GRB.CONTINUOUS, name=\"cr\")\n",
    "    \n",
    "    # Set objective\n",
    "    #mod.setObjective(np.sum(np.square(F - Br @(Ar @ F))) + \n",
    "    #               np.sum(np.square(Y.transpose - np.matmul(cr, np.matmul(Ar, F)))), GRB.MINIMIZE)\n",
    "\n",
    "    mod.setObjective( (Br * (Ar @ F))\n",
    "                    )\n",
    "                     \n",
    "    # Add constraints\n",
    "    \n",
    "    \n",
    "    # Optimize model\n",
    "    mod.optimize()\n",
    "\n",
    "    #print(x.X)\n",
    "    print('Obj: %g' % mod.objVal)\n",
    "\n",
    "except gp.GurobiError as e:\n",
    "    print('Error code ' + str(e.errno) + \": \" + str(e))\n",
    "\n",
    "except AttributeError:\n",
    "    print('Encountered an attribute error')\n",
    "    #print(e.message)"
   ]
  }
 ],
 "metadata": {
  "kernelspec": {
   "display_name": "Python 3",
   "language": "python",
   "name": "python3"
  },
  "language_info": {
   "codemirror_mode": {
    "name": "ipython",
    "version": 3
   },
   "file_extension": ".py",
   "mimetype": "text/x-python",
   "name": "python",
   "nbconvert_exporter": "python",
   "pygments_lexer": "ipython3",
   "version": "3.7.6"
  }
 },
 "nbformat": 4,
 "nbformat_minor": 4
}
