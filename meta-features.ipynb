{
 "cells": [
  {
   "cell_type": "code",
   "execution_count": 1,
   "metadata": {},
   "outputs": [],
   "source": [
    "import pandas as pd\n",
    "from pyhard.measures import ClassificationMeasures"
   ]
  },
  {
   "cell_type": "code",
   "execution_count": 5,
   "metadata": {},
   "outputs": [
    {
     "name": "stdout",
     "output_type": "stream",
     "text": [
      "/Users/victordesanunes/Documents/artigo-ipo\r\n"
     ]
    }
   ],
   "source": [
    "!pwd"
   ]
  },
  {
   "cell_type": "code",
   "execution_count": 10,
   "metadata": {},
   "outputs": [
    {
     "data": {
      "text/plain": [
       "['100_features_0.1_error.csv',\n",
       " '10_features_0.1_error.csv',\n",
       " '5_features_0.01_error.csv',\n",
       " '10_features_0.01_error.csv',\n",
       " '5_features_0.1_error.csv',\n",
       " '2_features_0.01_error.csv',\n",
       " '2_features_0.1_error.csv',\n",
       " '10_features_0.5_error.csv',\n",
       " '100_features_0.5_error.csv',\n",
       " '5_features_0.5_error.csv',\n",
       " '.ipynb_checkpoints',\n",
       " '2_features_0.5_error.csv',\n",
       " '100_features_0.01_error.csv']"
      ]
     },
     "execution_count": 10,
     "metadata": {},
     "output_type": "execute_result"
    }
   ],
   "source": [
    "import os\n",
    "\n",
    "synthetic_datasets = os.listdir('datasets/sklearn-datasets')\n",
    "synthetic_datasets"
   ]
  },
  {
   "cell_type": "code",
   "execution_count": 20,
   "metadata": {},
   "outputs": [],
   "source": [
    "datasets_dictionary = dict()\n",
    "for f in synthetic_datasets:\n",
    "    try:\n",
    "        df = pd.read_csv(f'datasets/sklearn-datasets/{f}')\n",
    "        target_columns = [col for col in df.columns if col.startswith('target')]\n",
    "        datasets_dictionary[f] = (df, target_columns)\n",
    "    except:\n",
    "        pass"
   ]
  },
  {
   "cell_type": "code",
   "execution_count": 24,
   "metadata": {},
   "outputs": [
    {
     "data": {
      "text/plain": [
       "dict_keys(['100_features_0.1_error.csv', '10_features_0.1_error.csv', '5_features_0.01_error.csv', '10_features_0.01_error.csv', '5_features_0.1_error.csv', '2_features_0.01_error.csv', '2_features_0.1_error.csv', '10_features_0.5_error.csv', '100_features_0.5_error.csv', '5_features_0.5_error.csv', '2_features_0.5_error.csv', '100_features_0.01_error.csv'])"
      ]
     },
     "execution_count": 24,
     "metadata": {},
     "output_type": "execute_result"
    }
   ],
   "source": [
    "datasets_dictionary.keys()"
   ]
  },
  {
   "cell_type": "code",
   "execution_count": 25,
   "metadata": {},
   "outputs": [
    {
     "name": "stdout",
     "output_type": "stream",
     "text": [
      "CPU times: user 2min 38s, sys: 1.28 s, total: 2min 40s\n",
      "Wall time: 2min 54s\n"
     ]
    }
   ],
   "source": [
    "%%time\n",
    "meta_features_dict = {}\n",
    "for filename, item in datasets_dictionary.items():\n",
    "    data = item[0]\n",
    "    target_columns = item[1]\n",
    "    m = ClassificationMeasures(data)\n",
    "    df_meta_feat = m.calculate_all()\n",
    "    meta_features_dict[filename] = df_meta_feat"
   ]
  },
  {
   "cell_type": "code",
   "execution_count": 26,
   "metadata": {},
   "outputs": [
    {
     "name": "stdout",
     "output_type": "stream",
     "text": [
      "CPU times: user 247 ms, sys: 12.6 ms, total: 260 ms\n",
      "Wall time: 267 ms\n"
     ]
    }
   ],
   "source": [
    "%%time\n",
    "for filename in meta_features_dict:\n",
    "    data = meta_features_dict[filename]\n",
    "    data.to_csv(f'datasets/sklearn-datasets/meta-features/{filename}.csv', index = False)"
   ]
  },
  {
   "cell_type": "code",
   "execution_count": null,
   "metadata": {},
   "outputs": [],
   "source": []
  }
 ],
 "metadata": {
  "kernelspec": {
   "display_name": "Python 3",
   "language": "python",
   "name": "python3"
  },
  "language_info": {
   "codemirror_mode": {
    "name": "ipython",
    "version": 3
   },
   "file_extension": ".py",
   "mimetype": "text/x-python",
   "name": "python",
   "nbconvert_exporter": "python",
   "pygments_lexer": "ipython3",
   "version": "3.7.10"
  }
 },
 "nbformat": 4,
 "nbformat_minor": 4
}
