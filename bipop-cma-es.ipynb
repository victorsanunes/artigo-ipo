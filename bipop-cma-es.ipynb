{
 "cells": [
  {
   "cell_type": "code",
   "execution_count": 1,
   "metadata": {},
   "outputs": [],
   "source": [
    "%config Completer.use_jedi = False"
   ]
  },
  {
   "cell_type": "code",
   "execution_count": 2,
   "metadata": {},
   "outputs": [],
   "source": [
    "import math\n",
    "import numpy as np\n",
    "import pandas as pd\n",
    "from cmaes import CMA\n",
    "import seaborn as sns\n",
    "from scipy.spatial.distance import pdist"
   ]
  },
  {
   "cell_type": "code",
   "execution_count": 3,
   "metadata": {},
   "outputs": [],
   "source": [
    "def errorfcn(alpha, Xbar, n, m):\n",
    "    f1 = np.reshape(alpha[(2 * n):], (m, 2))\n",
    "    f2 = np.reshape(alpha[0:2 * n], (2, n))\n",
    "    f3 = Xbar[:, 0:n].T\n",
    "    r = (Xbar - np.dot(f1, np.dot(f2, f3)).T) ** 2\n",
    "    return np.nanmean(np.nanmean(r, axis=0))"
   ]
  },
  {
   "cell_type": "code",
   "execution_count": 5,
   "metadata": {},
   "outputs": [],
   "source": [
    "df = pd.read_csv('datasets/credit-g_metadata.csv').drop(columns = ['instances'])\n",
    "performance_columns = [col for col in df.columns if col.startswith('algo')]\n",
    "X = df.drop(columns = performance_columns)\n",
    "Y = df[performance_columns]"
   ]
  },
  {
   "cell_type": "code",
   "execution_count": 14,
   "metadata": {},
   "outputs": [
    {
     "ename": "IndexError",
     "evalue": "index 5 is out of bounds for axis 1 with size 5",
     "output_type": "error",
     "traceback": [
      "\u001b[0;31m---------------------------------------------------------------------------\u001b[0m",
      "\u001b[0;31mIndexError\u001b[0m                                Traceback (most recent call last)",
      "\u001b[0;32m<timed exec>\u001b[0m in \u001b[0;36m<module>\u001b[0;34m\u001b[0m\n",
      "\u001b[0;31mIndexError\u001b[0m: index 5 is out of bounds for axis 1 with size 5"
     ]
    }
   ],
   "source": [
    "%%time\n",
    "Xbar = np.hstack((X, Y))\n",
    "n = X.shape[1]\n",
    "m = Xbar.shape[1]\n",
    "\n",
    "search_space = 32.768\n",
    "bounds = list()\n",
    "bounds.append([[-search_space, search_space] for i in range(2 * m + 2 * n)])\n",
    "bounds = np.array(bounds).reshape((2 * m + 2 * n, 2))\n",
    "\n",
    "lower_bounds, upper_bounds = bounds[:, 0], bounds[:, 1]\n",
    "mean = lower_bounds + (np.random.rand(2 * m + 2 * n) * (upper_bounds - lower_bounds))\n",
    "sigma = search_space * 2 / 5  # 1/5 of the domain width\n",
    "\n",
    "optimizer = CMA(mean=mean, sigma=sigma, bounds=bounds, seed=0)\n",
    "ntries = 5\n",
    "\n",
    "perf = np.zeros(ntries)\n",
    "alpha = np.zeros((2 * m + 2 * n, ntries))\n",
    "Hd = pdist(X)[np.newaxis].T\n",
    "\n",
    "n_restarts = 30  # A small restart doesn't count in the n_restarts\n",
    "small_n_eval, large_n_eval = 0, 0\n",
    "popsize0 = optimizer.population_size\n",
    "inc_popsize = 2\n",
    "\n",
    "# Initial run is with \"normal\" population size; it is\n",
    "# the large population before first doubling, but its\n",
    "# budget accounting is the same as in case of small\n",
    "# population.\n",
    "poptype = \"small\"\n",
    "\n",
    "for generation in range(200):\n",
    "    solutions = []\n",
    "    for _ in range(optimizer.population_size):\n",
    "        alpha[:, generation] = optimizer.ask()\n",
    "        \n",
    "        # Calculate function value\n",
    "        value = errorfcn(alpha = alpha[:, generation], Xbar = Xbar, n = n, m = m)\n",
    "        solutions.append((alpha[:, generation], value))\n",
    "#         print(f\"#{generation} {value} (x1={x[0]}, x2 = {x[1]})\")\n",
    "    optimizer.tell(solutions)\n",
    "\n",
    "    aux = alpha[:, [generation]]\n",
    "    A = np.reshape(aux[0:2 * n], (2, n))\n",
    "    Z = np.dot(X, A.T)\n",
    "    perf[generation] = np.corrcoef(Hd, pdist(Z)[np.newaxis].T, rowvar=False)[0][1]\n",
    "    \n",
    "    if optimizer.should_stop():\n",
    "        n_eval = optimizer.population_size * optimizer.generation\n",
    "        if poptype == \"small\":\n",
    "            small_n_eval += n_eval\n",
    "        else:  # poptype == \"large\"\n",
    "            large_n_eval += n_eval\n",
    "\n",
    "        if small_n_eval < large_n_eval:\n",
    "            poptype = \"small\"\n",
    "            popsize_multiplier = inc_popsize ** n_restarts\n",
    "            popsize = math.floor(\n",
    "                popsize0 * popsize_multiplier ** (np.random.uniform() ** 2)\n",
    "            )\n",
    "        else:\n",
    "            poptype = \"large\"\n",
    "            n_restarts += 1\n",
    "            popsize = popsize0 * (inc_popsize ** n_restarts)\n",
    "\n",
    "        mean = lower_bounds + (np.random.rand(2) * (upper_bounds - lower_bounds))\n",
    "        optimizer = CMA(\n",
    "            mean=mean,\n",
    "            sigma=sigma,\n",
    "            bounds=bounds,\n",
    "            population_size=popsize,\n",
    "        )\n",
    "        print(\"Restart CMA-ES with popsize={} ({})\".format(popsize, poptype))\n"
   ]
  },
  {
   "cell_type": "code",
   "execution_count": null,
   "metadata": {},
   "outputs": [],
   "source": []
  }
 ],
 "metadata": {
  "kernelspec": {
   "display_name": "Python 3",
   "language": "python",
   "name": "python3"
  },
  "language_info": {
   "codemirror_mode": {
    "name": "ipython",
    "version": 3
   },
   "file_extension": ".py",
   "mimetype": "text/x-python",
   "name": "python",
   "nbconvert_exporter": "python",
   "pygments_lexer": "ipython3",
   "version": "3.7.6"
  }
 },
 "nbformat": 4,
 "nbformat_minor": 4
}
