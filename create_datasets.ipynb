{
 "metadata": {
  "language_info": {
   "codemirror_mode": {
    "name": "ipython",
    "version": 3
   },
   "file_extension": ".py",
   "mimetype": "text/x-python",
   "name": "python",
   "nbconvert_exporter": "python",
   "pygments_lexer": "ipython3",
   "version": "3.7.10"
  },
  "orig_nbformat": 2,
  "kernelspec": {
   "name": "python3710jvsc74a57bd0969075e5252b4b67fe8fce4d9be197278183200d299d61103e1938b5d49a9d45",
   "display_name": "Python 3.7.10 64-bit ('pyhard-dev-env': conda)"
  }
 },
 "nbformat": 4,
 "nbformat_minor": 2,
 "cells": [
  {
   "cell_type": "code",
   "execution_count": 3,
   "metadata": {},
   "outputs": [],
   "source": [
    "import geradorRegressao"
   ]
  },
  {
   "cell_type": "code",
   "execution_count": 5,
   "metadata": {},
   "outputs": [
    {
     "output_type": "execute_result",
     "data": {
      "text/plain": [
       "          V1        V2         y\n",
       "0   0.881983 -0.419415  0.950050\n",
       "1   0.067309 -0.542967  1.054830\n",
       "2  -0.363373  0.885777  1.022379\n",
       "3  -0.968743  0.397292  1.081677\n",
       "4  -0.159459 -0.101356  0.933949\n",
       "..       ...       ...       ...\n",
       "95  0.387958  0.712569  1.083294\n",
       "96  0.948920 -0.907678  1.045671\n",
       "97 -0.277618  0.360564  0.857045\n",
       "98  0.335460 -0.064221  0.971315\n",
       "99 -0.901777 -0.192407  1.274590\n",
       "\n",
       "[100 rows x 3 columns]"
      ],
      "text/html": "<div>\n<style scoped>\n    .dataframe tbody tr th:only-of-type {\n        vertical-align: middle;\n    }\n\n    .dataframe tbody tr th {\n        vertical-align: top;\n    }\n\n    .dataframe thead th {\n        text-align: right;\n    }\n</style>\n<table border=\"1\" class=\"dataframe\">\n  <thead>\n    <tr style=\"text-align: right;\">\n      <th></th>\n      <th>V1</th>\n      <th>V2</th>\n      <th>y</th>\n    </tr>\n  </thead>\n  <tbody>\n    <tr>\n      <th>0</th>\n      <td>0.881983</td>\n      <td>-0.419415</td>\n      <td>0.950050</td>\n    </tr>\n    <tr>\n      <th>1</th>\n      <td>0.067309</td>\n      <td>-0.542967</td>\n      <td>1.054830</td>\n    </tr>\n    <tr>\n      <th>2</th>\n      <td>-0.363373</td>\n      <td>0.885777</td>\n      <td>1.022379</td>\n    </tr>\n    <tr>\n      <th>3</th>\n      <td>-0.968743</td>\n      <td>0.397292</td>\n      <td>1.081677</td>\n    </tr>\n    <tr>\n      <th>4</th>\n      <td>-0.159459</td>\n      <td>-0.101356</td>\n      <td>0.933949</td>\n    </tr>\n    <tr>\n      <th>...</th>\n      <td>...</td>\n      <td>...</td>\n      <td>...</td>\n    </tr>\n    <tr>\n      <th>95</th>\n      <td>0.387958</td>\n      <td>0.712569</td>\n      <td>1.083294</td>\n    </tr>\n    <tr>\n      <th>96</th>\n      <td>0.948920</td>\n      <td>-0.907678</td>\n      <td>1.045671</td>\n    </tr>\n    <tr>\n      <th>97</th>\n      <td>-0.277618</td>\n      <td>0.360564</td>\n      <td>0.857045</td>\n    </tr>\n    <tr>\n      <th>98</th>\n      <td>0.335460</td>\n      <td>-0.064221</td>\n      <td>0.971315</td>\n    </tr>\n    <tr>\n      <th>99</th>\n      <td>-0.901777</td>\n      <td>-0.192407</td>\n      <td>1.274590</td>\n    </tr>\n  </tbody>\n</table>\n<p>100 rows × 3 columns</p>\n</div>"
     },
     "metadata": {},
     "execution_count": 5
    }
   ],
   "source": [
    "df = geradorRegressao.gera_conjunto_regressao(nome = '2dim_dataset', quantidade_de_linhas = 100, quantidade_de_colunas = 2, funcao = 'poli1', erro = 0.1)\n",
    "df"
   ]
  },
  {
   "cell_type": "code",
   "execution_count": null,
   "metadata": {},
   "outputs": [],
   "source": []
  }
 ]
}